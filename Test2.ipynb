{
  "nbformat": 4,
  "nbformat_minor": 0,
  "metadata": {
    "colab": {
      "provenance": [],
      "authorship_tag": "ABX9TyMGv6FhjPEZTl02LOpDyBlt",
      "include_colab_link": true
    },
    "kernelspec": {
      "name": "python3",
      "display_name": "Python 3"
    },
    "language_info": {
      "name": "python"
    }
  },
  "cells": [
    {
      "cell_type": "markdown",
      "metadata": {
        "id": "view-in-github",
        "colab_type": "text"
      },
      "source": [
        "<a href=\"https://colab.research.google.com/github/ArtCardenas/Python-MLOps-Cookbook/blob/main/Test2.ipynb\" target=\"_parent\"><img src=\"https://colab.research.google.com/assets/colab-badge.svg\" alt=\"Open In Colab\"/></a>"
      ]
    },
    {
      "cell_type": "code",
      "execution_count": 1,
      "metadata": {
        "id": "TJXu4KjTQZNB"
      },
      "outputs": [],
      "source": [
        "# test notebook"
      ]
    },
    {
      "cell_type": "markdown",
      "source": [
        "this is a text"
      ],
      "metadata": {
        "id": "dueCNyNfTKLv"
      }
    }
  ]
}